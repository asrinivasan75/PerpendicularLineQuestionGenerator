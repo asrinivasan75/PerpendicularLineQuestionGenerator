{
  "nbformat": 4,
  "nbformat_minor": 0,
  "metadata": {
    "colab": {
      "name": "PerpendicularLineQuestionGeneration.ipynb",
      "provenance": [],
      "collapsed_sections": []
    },
    "kernelspec": {
      "name": "python3",
      "display_name": "Python 3"
    },
    "language_info": {
      "name": "python"
    }
  },
  "cells": [
    {
      "cell_type": "code",
      "metadata": {
        "id": "7ZS5WsYjPNBS"
      },
      "source": [
        "import random\n",
        "import numpy\n",
        "import math"
      ],
      "execution_count": 154,
      "outputs": []
    },
    {
      "cell_type": "code",
      "metadata": {
        "id": "GuhTIeqlWEkD"
      },
      "source": [
        "#The purpose of this program is to generate problems regarding perpendicular lines. \n",
        "#This could be extremely useful for pertaining excercises and could automate problem generation, which would help prevent cheating\n",
        "#This would also automate a job that humans would otherwise need to spend time on."
      ],
      "execution_count": 155,
      "outputs": []
    },
    {
      "cell_type": "code",
      "metadata": {
        "id": "4-l1VJIsPUUA"
      },
      "source": [
        "def generatePoint():\n",
        "  #This function generates a random point (x,y)\n",
        "  x = random.randint(1,10)\n",
        "  y = random.randint(1,10)\n",
        "  return x, y"
      ],
      "execution_count": 156,
      "outputs": []
    },
    {
      "cell_type": "code",
      "metadata": {
        "id": "MNIVHq6cQWfy"
      },
      "source": [
        "def generateEquation():\n",
        "  #This function generates a random equation (y=mx+b), returning the slope and intercept being m and b respectively\n",
        "  slope = random.randint(1,10)\n",
        "  intercept = random.randint(1,10)\n",
        "  return slope, intercept"
      ],
      "execution_count": 157,
      "outputs": []
    },
    {
      "cell_type": "code",
      "metadata": {
        "id": "6LwgcCzSQ6JC"
      },
      "source": [
        "def findPerpendicular(pointx, pointy, slope, intercept):\n",
        "  #This function finds the perpendicular line\n",
        "  newslope = -1*(1/slope)\n",
        "  term1 = newslope*pointx\n",
        "  term2 = pointy\n",
        "  newintercept = term2 - term1\n",
        "  return newslope, newintercept"
      ],
      "execution_count": 158,
      "outputs": []
    },
    {
      "cell_type": "code",
      "metadata": {
        "id": "yc6MnxtnXQ7T"
      },
      "source": [
        "def checkandMakeProper(userinput):\n",
        "  #Basically this was created to make sure that if the user inputs a bad value, then they will have to input again.\n",
        "  #This was mainly so that because accidents happen, the penalty would not be harsh, but they would have to input a readable value. Part of the debugging process.\n",
        "  try:\n",
        "    userinput = int(userinput)\n",
        "    return [True, userinput]\n",
        "  except ValueError:\n",
        "    try:\n",
        "      top, bottom = userinput.split('/')\n",
        "      top = int(top)\n",
        "      bottom = int(bottom)\n",
        "      userinput = top/bottom\n",
        "    except ValueError:\n",
        "      return [False, userinput]\n",
        "  if type(userinput) != int and type(userinput) != float:\n",
        "    return [False, userinput]\n",
        "  else:\n",
        "    return [True, userinput]"
      ],
      "execution_count": 173,
      "outputs": []
    },
    {
      "cell_type": "code",
      "metadata": {
        "id": "xd35q6f1Rcu8"
      },
      "source": [
        "def doAll(epochs):\n",
        "  #This function puts it all together, and runs for the number of epochs given. That means the number of epochs is how many questions the student will be asked.\n",
        "  #Important to note that the response must be readable or else the question will be forfeited. For example, acceptable responses may include 1/2 or 0.5 but not 1/a2afd\n",
        "  score = 0\n",
        "  for i in range(0, epochs):\n",
        "    pointx, pointy = generatePoint()\n",
        "    slope, intercept = generateEquation()\n",
        "    print(\"Find a line that is perpendicular to y =\",slope,\"x +\",intercept,\"and passes through (\",pointx,\", \",pointy,\")\")\n",
        "    print(\"y=mx+b\") \n",
        "    userslope = 'asdfasdifuasfd'\n",
        "    userintercept = 'adfsdsfsafdasafds'\n",
        "    returnedArray = checkandMakeProper(userslope) \n",
        "    boolvalue = returnedArray[0]\n",
        "    uservalue = returnedArray[1]\n",
        "    while boolvalue != True:\n",
        "      userslope = input(\"m is equal to: \")\n",
        "      returnedArray = checkandMakeProper(userslope) \n",
        "      boolvalue = returnedArray[0]\n",
        "      userslope = returnedArray[1]\n",
        "      if boolvalue == False:\n",
        "        print(\"You have entered an invalid 'm' value. Enter a value in the form 1/2 or 0.3, not in an unreadable format.\")\n",
        "    returnedArray = checkandMakeProper(userintercept) \n",
        "    boolvalue = returnedArray[0]\n",
        "    uservalue = returnedArray[1]\n",
        "    while boolvalue != True:\n",
        "      userintercept = input(\"b is equal to: \")\n",
        "      returnedArray = checkandMakeProper(userintercept) \n",
        "      boolvalue = returnedArray[0]\n",
        "      userintercept = returnedArray[1]\n",
        "      if boolvalue == False:\n",
        "        print(\"You have entered an invalid 'm' value. Enter a value in the form 1/2 or 0.3, not in an unreadable format.\")\n",
        "    correctslope, correctintercept = findPerpendicular(pointx, pointy, slope, intercept)\n",
        "    userslope = float(userslope)\n",
        "    userintercept = float(userintercept)\n",
        "    correctslope = float(correctslope)\n",
        "    correctintercept = float(correctintercept)\n",
        "    if userslope == correctslope and userintercept == correctintercept:\n",
        "      print(\"Correct! Great job!\")\n",
        "      score += 1\n",
        "    else:\n",
        "      print(\"You entered the wrong answer. The correct answers were\", correctslope, correctintercept, \"but you could have expressed them as fractions as well.\")\n",
        "    \n",
        "  accuracy = (score/epochs) * 100\n",
        "  print(\"Your final accuracy was:\", accuracy,\"%\")"
      ],
      "execution_count": 179,
      "outputs": []
    },
    {
      "cell_type": "code",
      "metadata": {
        "colab": {
          "base_uri": "https://localhost:8080/"
        },
        "id": "8n229k3ISR6B",
        "outputId": "39518e91-fc6e-48be-ee4c-6f71771cfdb8"
      },
      "source": [
        "doAll(1)"
      ],
      "execution_count": 180,
      "outputs": [
        {
          "output_type": "stream",
          "text": [
            "Find a line that is perpendicular to y = 5 x + 9 and passes through ( 9 ,  5 )\n",
            "y=mx+b\n",
            "m is equal to: -1/5\n",
            "b is equal to: 34/5\n",
            "Correct! Great job!\n",
            "Your final accuracy was: 100.0 %\n"
          ],
          "name": "stdout"
        }
      ]
    },
    {
      "cell_type": "code",
      "metadata": {
        "id": "Msp5NO0ab4T9"
      },
      "source": [
        ""
      ],
      "execution_count": null,
      "outputs": []
    }
  ]
}
